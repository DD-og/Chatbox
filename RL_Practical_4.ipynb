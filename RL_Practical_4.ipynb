{
  "nbformat": 4,
  "nbformat_minor": 0,
  "metadata": {
    "colab": {
      "provenance": []
    },
    "kernelspec": {
      "name": "python3",
      "display_name": "Python 3"
    },
    "language_info": {
      "name": "python"
    }
  },
  "cells": [
    {
      "cell_type": "markdown",
      "source": [
        "Asynchronous Value Iteration\n",
        "\n",
        "```\n",
        "grid = [\n",
        "    [0.0, 0.0, 0.0, +1],\n",
        "    [0.0, 0.0, 0.0, -1],\n",
        "    [0.0, 'x', 0.0, 0.0]\n",
        "]\n",
        "```"
      ],
      "metadata": {
        "id": "Z3fa-lZyczFk"
      }
    },
    {
      "cell_type": "code",
      "source": [
        "grid = [\n",
        "    [0.0, 0.0, 0.0, +1],\n",
        "    [0.0, 0.0, 0.0, -1],\n",
        "    [0.0, 'x', 0.0, 0.0]\n",
        "]\n",
        "\n",
        "rows, cols = len(grid), len(grid[0])\n",
        "gamma = 0.9"
      ],
      "metadata": {
        "id": "7BzxRgBifLWE"
      },
      "execution_count": null,
      "outputs": []
    },
    {
      "cell_type": "code",
      "source": [
        "def adj(x, y):\n",
        "    pnstates = []\n",
        "    for dx, dy in [(-1, 0), (1, 0), (0, -1), (0, 1)]:\n",
        "        nx, ny = x + dx, y + dy\n",
        "        if 0 <= nx < rows and 0 <= ny < cols and grid[nx][ny] != 'x':\n",
        "            pnstates.append((nx, ny))\n",
        "    return pnstates"
      ],
      "metadata": {
        "id": "bHPS9jyNfQAC"
      },
      "execution_count": null,
      "outputs": []
    },
    {
      "cell_type": "code",
      "source": [
        "def asynchronous_vi(grid):\n",
        "    iter = 0\n",
        "    while True:\n",
        "        iter += 1\n",
        "        new_grid = [row[:] for row in grid]\n",
        "        changes = False\n",
        "\n",
        "        for x in range(rows):\n",
        "            for y in range(cols):\n",
        "                if grid[x][y] in [-1, +1, 'x']:\n",
        "                    continue\n",
        "                pnstates = adj(x, y)\n",
        "                if pnstates:\n",
        "                    max_pnstate_value = max(grid[nx][ny] for nx, ny in pnstates)\n",
        "                    new_value = round(max_pnstate_value * gamma, 1)\n",
        "                    if new_value != grid[x][y]:\n",
        "                        abs(new_grid[x][y] - new_value) <= 0.001\n",
        "                        new_grid[x][y] = new_value\n",
        "                        changes = True\n",
        "\n",
        "        grid = new_grid\n",
        "        print(f\"Iteration {iter}:\")\n",
        "        for row in grid:\n",
        "            print(row)\n",
        "        print()\n",
        "\n",
        "        if not changes:\n",
        "            print(\"Done.\")\n",
        "            break"
      ],
      "metadata": {
        "id": "QBjke9e9d0OF"
      },
      "execution_count": null,
      "outputs": []
    },
    {
      "cell_type": "code",
      "source": [
        "asynchronous_vi(grid)"
      ],
      "metadata": {
        "id": "4LuVrdRjfYVy"
      },
      "execution_count": null,
      "outputs": []
    }
  ]
}
