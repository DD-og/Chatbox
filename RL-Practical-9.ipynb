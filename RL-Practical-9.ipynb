{
  "nbformat": 4,
  "nbformat_minor": 0,
  "metadata": {
    "colab": {
      "provenance": []
    },
    "kernelspec": {
      "name": "python3",
      "display_name": "Python 3"
    },
    "language_info": {
      "name": "python"
    }
  },
  "cells": [
    {
      "cell_type": "code",
      "execution_count": null,
      "metadata": {
        "colab": {
          "base_uri": "https://localhost:8080/"
        },
        "id": "_UMkwmBS8u7A",
        "outputId": "c0cb79e1-11ba-4479-b4c2-5a4794b8d58c"
      },
      "outputs": [
        {
          "output_type": "stream",
          "name": "stdout",
          "text": [
            "Episode 0, Total Reward: 18.0\n",
            "Episode 100, Total Reward: 26.0\n",
            "Episode 200, Total Reward: 75.0\n",
            "Episode 300, Total Reward: 315.0\n",
            "Episode 400, Total Reward: 312.0\n",
            "Episode 500, Total Reward: 300.0\n",
            "Episode 600, Total Reward: 350.0\n",
            "Episode 700, Total Reward: 500.0\n",
            "Episode 800, Total Reward: 185.0\n"
          ]
        }
      ],
      "source": [
        "import numpy as np\n",
        "import gymnasium as gym  # Use gymnasium instead of gym\n",
        "import torch\n",
        "import torch.nn as nn\n",
        "import torch.optim as optim\n",
        "from torch.distributions import Categorical\n",
        "\n",
        "# Define the Actor model\n",
        "class Actor(nn.Module):\n",
        "    def __init__(self, input_dim, output_dim):\n",
        "        super(Actor, self).__init__()\n",
        "        self.fc = nn.Linear(input_dim, 128)\n",
        "        self.actor = nn.Linear(128, output_dim)\n",
        "\n",
        "    def forward(self, x):\n",
        "        x = torch.relu(self.fc(x))\n",
        "        return torch.softmax(self.actor(x), dim=-1)\n",
        "\n",
        "# Define the Critic model\n",
        "class Critic(nn.Module):\n",
        "    def __init__(self, input_dim):\n",
        "        super(Critic, self).__init__()\n",
        "        self.fc = nn.Linear(input_dim, 128)\n",
        "        self.critic = nn.Linear(128, 1)\n",
        "\n",
        "    def forward(self, x):\n",
        "        x = torch.relu(self.fc(x))\n",
        "        return self.critic(x)\n",
        "\n",
        "# A2C algorithm\n",
        "def a2c(env, num_episodes=1000, gamma=0.99, learning_rate=0.001):\n",
        "    input_dim = env.observation_space.shape[0]\n",
        "    output_dim = env.action_space.n\n",
        "\n",
        "    actor = Actor(input_dim, output_dim)\n",
        "    critic = Critic(input_dim)\n",
        "    optimizer = optim.Adam(list(actor.parameters()) + list(critic.parameters()), lr=learning_rate)\n",
        "\n",
        "    for episode in range(num_episodes):\n",
        "        state, _ = env.reset()  # Extract only state\n",
        "\n",
        "        done = False\n",
        "        rewards = []\n",
        "        log_probs = []\n",
        "        values = []\n",
        "\n",
        "        while not done:\n",
        "            state_tensor = torch.FloatTensor(state).unsqueeze(0)\n",
        "            action_probs = actor(state_tensor)\n",
        "            value = critic(state_tensor)\n",
        "\n",
        "            dist = Categorical(action_probs)\n",
        "            action = dist.sample()\n",
        "\n",
        "            log_prob = dist.log_prob(action)\n",
        "            next_state, reward, terminated, truncated, _ = env.step(action.item())\n",
        "\n",
        "            done = terminated or truncated  # Consider both termination cases\n",
        "\n",
        "            rewards.append(reward)\n",
        "            log_probs.append(log_prob)\n",
        "            values.append(value)\n",
        "\n",
        "            state = next_state\n",
        "\n",
        "        # Compute returns and advantages\n",
        "        returns = []\n",
        "        G = 0\n",
        "        for r in reversed(rewards):\n",
        "            G = r + gamma * G\n",
        "            returns.insert(0, G)\n",
        "\n",
        "        returns = torch.FloatTensor(returns)\n",
        "        log_probs = torch.cat(log_probs)\n",
        "        values = torch.cat(values).squeeze()\n",
        "\n",
        "        # Compute advantages\n",
        "        advantages = returns - values.detach()\n",
        "\n",
        "        # Update the model\n",
        "        actor_loss = -(log_probs * advantages).mean()\n",
        "        critic_loss = (returns - values).pow(2).mean()\n",
        "        loss = actor_loss + critic_loss\n",
        "\n",
        "        optimizer.zero_grad()\n",
        "        loss.backward()\n",
        "        optimizer.step()\n",
        "\n",
        "        if episode % 100 == 0:\n",
        "            print(f'Episode {episode}, Total Reward: {sum(rewards)}')\n",
        "\n",
        "    return actor, critic\n",
        "\n",
        "# Main function to run the A2C algorithm\n",
        "if __name__ == \"__main__\":\n",
        "    env = gym.make('CartPole-v1')\n",
        "    actor, critic = a2c(env)\n",
        "    env.close()\n"
      ]
    },
    {
      "cell_type": "code",
      "source": [],
      "metadata": {
        "id": "aLh3ZdNH8x8A"
      },
      "execution_count": null,
      "outputs": []
    }
  ]
}
