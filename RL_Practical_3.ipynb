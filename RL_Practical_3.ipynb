{
  "nbformat": 4,
  "nbformat_minor": 0,
  "metadata": {
    "colab": {
      "provenance": []
    },
    "kernelspec": {
      "name": "python3",
      "display_name": "Python 3"
    },
    "language_info": {
      "name": "python"
    }
  },
  "cells": [
    {
      "cell_type": "markdown",
      "source": [
        "## Easy-21\n",
        "\n",
        "\n",
        "Easy 21 is a variant of black jack with the following rules:\n",
        "1. The game is played with an infinite deck i.e cards are sampled with replacement.\n",
        "2. There are no face cards in this game and the values of the cards range from 1–10.\n",
        "3. The probability of drawing a red card is 1/3 and that of a black card is 2/3.\n",
        "4. The value of a red is subtracted while that of a black card is added.\n",
        "5. At the start of the game both the player and the dealer draw one black card.\n",
        "6. There are two actions in this game i.e. stick or hit. If the player sticks it receives no further cards\n",
        "7. If the player’s sum exceeds 21, or becomes less than 1, then it “goes bust” and loses the game (reward -1)\n",
        "8. The dealer always sticks on any sum of 17 or greater, and hits otherwise. If the dealer sticks then only the player takes turn until it goes bust or wins, and vice-versa.\n",
        "9. If the dealer goes bust, then the player wins; otherwise, the outcome — win (reward +1), lose (reward -1), or draw (reward 0) — is the player with the largest sum."
      ],
      "metadata": {
        "id": "_3_WxhPaYwLm"
      }
    },
    {
      "cell_type": "code",
      "execution_count": 1,
      "metadata": {
        "id": "VfiMWccLRNFt"
      },
      "outputs": [],
      "source": [
        "import random\n",
        "\n",
        "class Easy21:\n",
        "    def __init__(self):\n",
        "        self.player_sum = 0\n",
        "        self.dealer_sum = 0\n",
        "        self.reset()\n",
        "\n",
        "    def reset(self):\n",
        "        self.player_sum = self.draw_card()\n",
        "        self.dealer_sum = self.draw_card()\n",
        "        return self.player_sum, self.dealer_sum\n",
        "\n",
        "    def draw_card(self):\n",
        "        card_value = random.randint(1, 10)\n",
        "        if random.random() < 1/3:\n",
        "            card_value = -card_value\n",
        "        return card_value\n",
        "\n",
        "    def step(self, action):\n",
        "        if action == 1:  # Hit\n",
        "            self.player_sum += self.draw_card()\n",
        "            if not (1 <= self.player_sum <= 21):\n",
        "                return self.player_sum, self.dealer_sum, -1, True # Player busts\n",
        "            return self.player_sum, self.dealer_sum, 0, False\n",
        "        elif action == 0:  # Stick\n",
        "            while 1 <= self.dealer_sum < 17: # Dealer hits\n",
        "                self.dealer_sum += self.draw_card()\n",
        "\n",
        "            if not (1 <= self.dealer_sum <= 21): # Dealer busts\n",
        "                return self.player_sum, self.dealer_sum, 1, True\n",
        "\n",
        "            if self.player_sum > self.dealer_sum:\n",
        "                return self.player_sum, self.dealer_sum, 1, True\n",
        "            elif self.player_sum == self.dealer_sum:\n",
        "                return self.player_sum, self.dealer_sum, 0, True\n",
        "            else:\n",
        "                return self.player_sum, self.dealer_sum, -1, True\n",
        "        else:\n",
        "            print(\"Invalid action. Please enter 1 for hit or 0 for stick.\")\n",
        "            return self.player_sum, self.dealer_sum, 0, False"
      ]
    },
    {
      "cell_type": "code",
      "source": [
        "env = Easy21()\n",
        "player_sum, dealer_sum = env.reset()\n",
        "print(f\"Initial Player Sum: {player_sum}, Dealer Sum: {dealer_sum}\")\n",
        "\n",
        "while True:\n",
        "    action = int(input(\"Enter action (1 for hit, 0 for stick): \"))\n",
        "    player_sum, dealer_sum, reward, done = env.step(action)\n",
        "    print(f\"Player Sum: {player_sum}, Dealer Sum: {dealer_sum}, Reward: {reward}\")\n",
        "    if done:\n",
        "      if reward == 1:\n",
        "        print(\"You win!\")\n",
        "      elif reward == -1:\n",
        "        print(\"You lose!\")\n",
        "      else:\n",
        "        print(\"It's a draw!\")\n",
        "      break"
      ],
      "metadata": {
        "colab": {
          "base_uri": "https://localhost:8080/"
        },
        "id": "j0F7uFHIaECV",
        "outputId": "0362b36f-de1b-477f-fdc4-7650bbf22209"
      },
      "execution_count": 2,
      "outputs": [
        {
          "output_type": "stream",
          "name": "stdout",
          "text": [
            "Initial Player Sum: 1, Dealer Sum: -6\n",
            "Enter action (1 for hit, 0 for stick): 1\n",
            "Player Sum: 2, Dealer Sum: -6, Reward: 0\n",
            "Enter action (1 for hit, 0 for stick): 1\n",
            "Player Sum: 8, Dealer Sum: -6, Reward: 0\n",
            "Enter action (1 for hit, 0 for stick): 1\n",
            "Player Sum: 18, Dealer Sum: -6, Reward: 0\n",
            "Enter action (1 for hit, 0 for stick): 0\n",
            "Player Sum: 18, Dealer Sum: -6, Reward: 1\n",
            "You win!\n"
          ]
        }
      ]
    }
  ]
}
